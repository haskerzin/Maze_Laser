{
 "cells": [
  {
   "cell_type": "code",
   "execution_count": 136,
   "metadata": {},
   "outputs": [],
   "source": [
    "import random"
   ]
  },
  {
   "cell_type": "code",
   "execution_count": 52,
   "metadata": {},
   "outputs": [],
   "source": [
    "pontos = []\n",
    "for i in range(0,12):\n",
    "    for j in range(0,12):\n",
    "        pontos.append((i, j))"
   ]
  },
  {
   "cell_type": "code",
   "execution_count": 119,
   "metadata": {},
   "outputs": [],
   "source": [
    "# blank = ' '\n",
    "# local =''\n",
    "# new_line = '\\n'\n",
    "# parede = 'w'\n",
    "\n",
    "# for i in range(10):\n",
    "#     local += new_line\n",
    "\n",
    "# for j in range(10):\n",
    "#     local += blank\n",
    "\n",
    "# print(local + parede)"
   ]
  },
  {
   "cell_type": "code",
   "execution_count": 122,
   "metadata": {},
   "outputs": [],
   "source": [
    "class Maze_Grid:\n",
    "\n",
    "    def __init__(self):\n",
    "        size = 12\n",
    "\n",
    "    def gera_indices(self):\n",
    "        \n",
    "        indice = '   '\n",
    "        num = 1\n",
    "        for i in range(size - 2):\n",
    "            indice += ' ' + str(num) + ' '\n",
    "            num += 1\n",
    "        \n",
    "        print(indice)\n",
    "        \n",
    "    \n",
    "    \n",
    "    def draw_maze(self):\n",
    "        \n",
    "        blank = '   '\n",
    "        wall = ' w '\n",
    "        ponto = ''\n",
    "        self.gera_indices()\n",
    "        linha = 1\n",
    "        for i in range(size):\n",
    "            ponto =''\n",
    "            for j in range(size+1):\n",
    "                if (i in [0, size-1] or j in [0,size-1]) and j != 12:\n",
    "                    ponto += wall\n",
    "\n",
    "                elif j == size and (i == 0 or i == size-1):\n",
    "                    ponto += blank\n",
    "                \n",
    "                elif j == size:\n",
    "                    ponto += str(linha)\n",
    "                    linha += 1\n",
    "                else:\n",
    "                    ponto += blank\n",
    "                \n",
    "            print(ponto)\n",
    "            "
   ]
  },
  {
   "cell_type": "code",
   "execution_count": 123,
   "metadata": {},
   "outputs": [],
   "source": [
    "maze = Maze_Grid()"
   ]
  },
  {
   "cell_type": "code",
   "execution_count": 124,
   "metadata": {},
   "outputs": [
    {
     "name": "stdout",
     "output_type": "stream",
     "text": [
      "    1  2  3  4  5  6  7  8  9  10 \n",
      " w  w  w  w  w  w  w  w  w  w  w  w    \n",
      " w                                w 1\n",
      " w                                w 2\n",
      " w                                w 3\n",
      " w                                w 4\n",
      " w                                w 5\n",
      " w                                w 6\n",
      " w                                w 7\n",
      " w                                w 8\n",
      " w                                w 9\n",
      " w                                w 10\n",
      " w  w  w  w  w  w  w  w  w  w  w  w    \n"
     ]
    }
   ],
   "source": [
    "maze.draw_maze()"
   ]
  },
  {
   "cell_type": "code",
   "execution_count": null,
   "metadata": {},
   "outputs": [],
   "source": []
  },
  {
   "cell_type": "code",
   "execution_count": 43,
   "metadata": {},
   "outputs": [
    {
     "name": "stdout",
     "output_type": "stream",
     "text": [
      "    tetse\n"
     ]
    }
   ],
   "source": [
    "print('    ' + 'tetse')"
   ]
  },
  {
   "cell_type": "code",
   "execution_count": 108,
   "metadata": {},
   "outputs": [],
   "source": [
    "def gera_indices(size):\n",
    "\n",
    "    indice = '   '\n",
    "    num = 1\n",
    "    for i in range(size - 2):\n",
    "        indice += ' ' + str(num) + ' '\n",
    "        num += 1\n",
    "    \n",
    "    print(indice)"
   ]
  },
  {
   "cell_type": "code",
   "execution_count": 109,
   "metadata": {},
   "outputs": [
    {
     "name": "stdout",
     "output_type": "stream",
     "text": [
      "    1  2  3  4  5  6  7  8  9  10 \n"
     ]
    }
   ],
   "source": [
    "gera_indices(12)"
   ]
  },
  {
   "cell_type": "code",
   "execution_count": 133,
   "metadata": {},
   "outputs": [],
   "source": [
    "def create_grid(size):\n",
    "    \n",
    "    blank = '   '\n",
    "    wall = ' w '\n",
    "    ponto = ''\n",
    "    bomba = (6,6)\n",
    "    gera_indices(size)\n",
    "    linha = 1\n",
    "    for i in range(size):\n",
    "        ponto =''\n",
    "        for j in range(size+1):\n",
    "            if (j, i) == bomba:\n",
    "                ponto += ' B '\n",
    "            \n",
    "            else:\n",
    "\n",
    "                if (i in [0, size-1] or j in [0,size-1]) and j != 12:\n",
    "                    ponto += wall\n",
    "\n",
    "                elif j == size and (i == 0 or i == size-1):\n",
    "                    ponto += blank\n",
    "                \n",
    "                elif j == size:\n",
    "                    ponto += str(linha)\n",
    "                    linha += 1\n",
    "                else:\n",
    "                    ponto += blank\n",
    "            \n",
    "        print(ponto)\n",
    "        "
   ]
  },
  {
   "cell_type": "code",
   "execution_count": 155,
   "metadata": {},
   "outputs": [
    {
     "data": {
      "text/plain": [
       "(3, 10)"
      ]
     },
     "execution_count": 155,
     "metadata": {},
     "output_type": "execute_result"
    }
   ],
   "source": [
    "bomba = (random.randint(1,10), random.randint(1,10))\n",
    "\n",
    "bomba"
   ]
  },
  {
   "cell_type": "code",
   "execution_count": null,
   "metadata": {},
   "outputs": [],
   "source": []
  },
  {
   "cell_type": "code",
   "execution_count": 134,
   "metadata": {},
   "outputs": [
    {
     "name": "stdout",
     "output_type": "stream",
     "text": [
      "    1  2  3  4  5  6  7  8  9  10 \n",
      " w  w  w  w  w  w  w  w  w  w  w  w    \n",
      " w                                w 1\n",
      " w                                w 2\n",
      " w                                w 3\n",
      " w                                w 4\n",
      " w                                w 5\n",
      " w                 B              w 6\n",
      " w                                w 7\n",
      " w                                w 8\n",
      " w                                w 9\n",
      " w                                w 10\n",
      " w  w  w  w  w  w  w  w  w  w  w  w    \n"
     ]
    }
   ],
   "source": [
    "create_grid(12)"
   ]
  },
  {
   "cell_type": "code",
   "execution_count": null,
   "metadata": {},
   "outputs": [],
   "source": []
  },
  {
   "cell_type": "code",
   "execution_count": null,
   "metadata": {},
   "outputs": [],
   "source": []
  },
  {
   "cell_type": "code",
   "execution_count": 89,
   "metadata": {},
   "outputs": [
    {
     "name": "stdout",
     "output_type": "stream",
     "text": [
      "    1  2  3  4  5  6  7  8  9  10\n",
      " w  w  w  w  w  w  w  w  w  w  w  w \n",
      " w                                w \n",
      " w                                w \n",
      " w                                w \n",
      " w                                w \n",
      " w                                w \n",
      " w                                w \n",
      " w                                w \n",
      " w                                w \n",
      " w                                w \n",
      " w                                w \n",
      " w  w  w  w  w  w  w  w  w  w  w  w \n"
     ]
    }
   ],
   "source": [
    "blank = '   '\n",
    "new_line = '\\n'\n",
    "wall = ' w '\n",
    "lista = [(0,0), (0,1), (0,2)]\n",
    "ponto = ''\n",
    "print('    1  2  3  4  5  6  7  8  9  10')\n",
    "linha = 1\n",
    "for i in range(12):\n",
    "    ponto =''\n",
    "    for j in range(12):\n",
    "        if i in [0, 11] or j in [0,11]:\n",
    "            ponto += wall\n",
    "        else:\n",
    "            ponto += blank\n",
    "        \n",
    "    print(ponto)"
   ]
  },
  {
   "cell_type": "code",
   "execution_count": 59,
   "metadata": {},
   "outputs": [
    {
     "data": {
      "text/plain": [
       "[(0, 0),\n",
       " (0, 1),\n",
       " (0, 2),\n",
       " (0, 3),\n",
       " (0, 4),\n",
       " (0, 5),\n",
       " (0, 6),\n",
       " (0, 7),\n",
       " (0, 8),\n",
       " (0, 9),\n",
       " (0, 10),\n",
       " (0, 11),\n",
       " (1, 0),\n",
       " (1, 1),\n",
       " (1, 2),\n",
       " (1, 3),\n",
       " (1, 4),\n",
       " (1, 5),\n",
       " (1, 6),\n",
       " (1, 7),\n",
       " (1, 8),\n",
       " (1, 9),\n",
       " (1, 10),\n",
       " (1, 11),\n",
       " (2, 0),\n",
       " (2, 1),\n",
       " (2, 2),\n",
       " (2, 3),\n",
       " (2, 4),\n",
       " (2, 5),\n",
       " (2, 6),\n",
       " (2, 7),\n",
       " (2, 8),\n",
       " (2, 9),\n",
       " (2, 10),\n",
       " (2, 11),\n",
       " (3, 0),\n",
       " (3, 1),\n",
       " (3, 2),\n",
       " (3, 3),\n",
       " (3, 4),\n",
       " (3, 5),\n",
       " (3, 6),\n",
       " (3, 7),\n",
       " (3, 8),\n",
       " (3, 9),\n",
       " (3, 10),\n",
       " (3, 11),\n",
       " (4, 0),\n",
       " (4, 1),\n",
       " (4, 2),\n",
       " (4, 3),\n",
       " (4, 4),\n",
       " (4, 5),\n",
       " (4, 6),\n",
       " (4, 7),\n",
       " (4, 8),\n",
       " (4, 9),\n",
       " (4, 10),\n",
       " (4, 11),\n",
       " (5, 0),\n",
       " (5, 1),\n",
       " (5, 2),\n",
       " (5, 3),\n",
       " (5, 4),\n",
       " (5, 5),\n",
       " (5, 6),\n",
       " (5, 7),\n",
       " (5, 8),\n",
       " (5, 9),\n",
       " (5, 10),\n",
       " (5, 11),\n",
       " (6, 0),\n",
       " (6, 1),\n",
       " (6, 2),\n",
       " (6, 3),\n",
       " (6, 4),\n",
       " (6, 5),\n",
       " (6, 6),\n",
       " (6, 7),\n",
       " (6, 8),\n",
       " (6, 9),\n",
       " (6, 10),\n",
       " (6, 11),\n",
       " (7, 0),\n",
       " (7, 1),\n",
       " (7, 2),\n",
       " (7, 3),\n",
       " (7, 4),\n",
       " (7, 5),\n",
       " (7, 6),\n",
       " (7, 7),\n",
       " (7, 8),\n",
       " (7, 9),\n",
       " (7, 10),\n",
       " (7, 11),\n",
       " (8, 0),\n",
       " (8, 1),\n",
       " (8, 2),\n",
       " (8, 3),\n",
       " (8, 4),\n",
       " (8, 5),\n",
       " (8, 6),\n",
       " (8, 7),\n",
       " (8, 8),\n",
       " (8, 9),\n",
       " (8, 10),\n",
       " (8, 11),\n",
       " (9, 0),\n",
       " (9, 1),\n",
       " (9, 2),\n",
       " (9, 3),\n",
       " (9, 4),\n",
       " (9, 5),\n",
       " (9, 6),\n",
       " (9, 7),\n",
       " (9, 8),\n",
       " (9, 9),\n",
       " (9, 10),\n",
       " (9, 11),\n",
       " (10, 0),\n",
       " (10, 1),\n",
       " (10, 2),\n",
       " (10, 3),\n",
       " (10, 4),\n",
       " (10, 5),\n",
       " (10, 6),\n",
       " (10, 7),\n",
       " (10, 8),\n",
       " (10, 9),\n",
       " (10, 10),\n",
       " (10, 11),\n",
       " (11, 0),\n",
       " (11, 1),\n",
       " (11, 2),\n",
       " (11, 3),\n",
       " (11, 4),\n",
       " (11, 5),\n",
       " (11, 6),\n",
       " (11, 7),\n",
       " (11, 8),\n",
       " (11, 9),\n",
       " (11, 10),\n",
       " (11, 11)]"
      ]
     },
     "execution_count": 59,
     "metadata": {},
     "output_type": "execute_result"
    }
   ],
   "source": [
    "for i range(len(pontos)):\n",
    "    "
   ]
  },
  {
   "cell_type": "code",
   "execution_count": 63,
   "metadata": {},
   "outputs": [
    {
     "data": {
      "text/plain": [
       "True"
      ]
     },
     "execution_count": 63,
     "metadata": {},
     "output_type": "execute_result"
    }
   ],
   "source": [
    "0 in [0,11]"
   ]
  },
  {
   "cell_type": "code",
   "execution_count": 92,
   "metadata": {},
   "outputs": [
    {
     "name": "stdout",
     "output_type": "stream",
     "text": [
      "    1  2  3  4  5  6  7  8  9  10\n",
      " w  w  w  w  w  w  w  w  w  w  w  w    \n",
      " w                                w 1\n",
      " w                                w 2\n",
      " w                                w 3\n",
      " w                                w 4\n",
      " w                                w 5\n",
      " w                                w 6\n",
      " w                                w 7\n",
      " w                                w 8\n",
      " w                                w 9\n",
      " w                                w 10\n",
      " w  w  w  w  w  w  w  w  w  w  w  w    \n"
     ]
    }
   ],
   "source": [
    "blank = '   '\n",
    "new_line = '\\n'\n",
    "wall = ' w '\n",
    "lista = [(0,0), (0,1), (0,2)]\n",
    "ponto = ''\n",
    "print('    1  2  3  4  5  6  7  8  9  10')\n",
    "linha = 1\n",
    "for i in range(12):\n",
    "    ponto =''\n",
    "    for j in range(13):\n",
    "        if (i in [0, 11] or j in [0,11]) and j != 12:\n",
    "            ponto += wall\n",
    "\n",
    "        elif j == 12 and (i == 0 or i == 11):\n",
    "            ponto += blank\n",
    "        \n",
    "        elif j == 12:\n",
    "            ponto += str(linha)\n",
    "            linha += 1\n",
    "        else:\n",
    "            ponto += blank\n",
    "        \n",
    "    print(ponto)\n",
    "\n",
    "\n"
   ]
  },
  {
   "cell_type": "code",
   "execution_count": 69,
   "metadata": {},
   "outputs": [],
   "source": [
    "maze = [[\" -\",\"--\",\"--\",\"--\",\"--\",\"--\",\"--\",\"--\",\"--\",\"--\",\"--\",\"- \"],\n",
    "        [\" |\",\"  \",\"  \",\"  \",\"  \",\"  \",\"  \",\"  \",\"  \",\"  \",\"  \",\"| \"],\n",
    "        [\" |\",\"  \",\"  \",\"  \",\"  \",\"  \",\"  \",\"  \",\"  \",\"  \",\"  \",\"| \"],\n",
    "        [\" |\",\"  \",\"  \",\"  \",\"  \",\"  \",\"  \",\"  \",\"  \",\"  \",\"  \",\"| \"],\n",
    "        [\" |\",\"  \",\"  \",\"  \",\"  \",\"  \",\"  \",\"  \",\"  \",\"  \",\"  \",\"| \"],\n",
    "        [\" |\",\"  \",\"  \",\"  \",\"  \",\"  \",\"  \",\"  \",\"  \",\"  \",\"  \",\"| \"],\n",
    "        [\" |\",\"  \",\"  \",\"  \",\"  \",\"  \",\"  \",\"  \",\"  \",\"  \",\"  \",\"| \"],\n",
    "        [\" |\",\"  \",\"  \",\"  \",\"  \",\"  \",\"  \",\"  \",\"  \",\"  \",\"  \",\"| \"],\n",
    "        [\" |\",\"  \",\"  \",\"  \",\"  \",\"  \",\"  \",\"  \",\"  \",\"  \",\"  \",\"| \"],\n",
    "        [\" |\",\"  \",\"  \",\"  \",\"  \",\"  \",\"  \",\"  \",\"  \",\"  \",\"  \",\"| \"],\n",
    "        [\" |\",\"  \",\"  \",\"  \",\"  \",\"  \",\"  \",\"  \",\"  \",\"  \",\"  \",\"| \"],\n",
    "        [\" -\",\"--\",\"--\",\"--\",\"--\",\"--\",\"--\",\"--\",\"--\",\"--\",\"--\",\"- \"]\n",
    "       ]"
   ]
  },
  {
   "cell_type": "code",
   "execution_count": 70,
   "metadata": {},
   "outputs": [],
   "source": [
    "def drawMaze():\n",
    "  print(\"\")\n",
    "  print(\"    1 2 3 4 5 6 7 8 9 10\")\n",
    "  for i in range(0,12):\n",
    "    line = \"\"\n",
    "    for j in range(0,12):\n",
    "       line = line + maze[i][j]\n",
    "    if i>0 and i<10:\n",
    "      print(\" \" + str(i) + line)\n",
    "    elif i==0 or i==11:\n",
    "      print(\"  \" + line)\n",
    "    elif i==10:\n",
    "      print(\"10\" + line)"
   ]
  },
  {
   "cell_type": "code",
   "execution_count": 71,
   "metadata": {},
   "outputs": [
    {
     "name": "stdout",
     "output_type": "stream",
     "text": [
      "\n",
      "    1 2 3 4 5 6 7 8 9 10\n",
      "   ---------------------- \n",
      " 1 |                    | \n",
      " 2 |                    | \n",
      " 3 |                    | \n",
      " 4 |                    | \n",
      " 5 |                    | \n",
      " 6 |                    | \n",
      " 7 |                    | \n",
      " 8 |                    | \n",
      " 9 |                    | \n",
      "10 |                    | \n",
      "   ---------------------- \n"
     ]
    }
   ],
   "source": [
    "drawMaze()"
   ]
  }
 ],
 "metadata": {
  "kernelspec": {
   "display_name": "Python 3.10.8 64-bit (microsoft store)",
   "language": "python",
   "name": "python3"
  },
  "language_info": {
   "codemirror_mode": {
    "name": "ipython",
    "version": 3
   },
   "file_extension": ".py",
   "mimetype": "text/x-python",
   "name": "python",
   "nbconvert_exporter": "python",
   "pygments_lexer": "ipython3",
   "version": "3.10.8"
  },
  "orig_nbformat": 4,
  "vscode": {
   "interpreter": {
    "hash": "eab14602231ad01e6975e6b14c107e0ddf402763b11716d601df613e1787ed6a"
   }
  }
 },
 "nbformat": 4,
 "nbformat_minor": 2
}
