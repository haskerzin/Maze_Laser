{
 "cells": [
  {
   "cell_type": "code",
   "execution_count": 4,
   "metadata": {},
   "outputs": [],
   "source": [
    "from create_grid import Grid\n"
   ]
  },
  {
   "cell_type": "code",
   "execution_count": 5,
   "metadata": {},
   "outputs": [],
   "source": [
    "teste = Grid()"
   ]
  },
  {
   "cell_type": "code",
   "execution_count": 6,
   "metadata": {},
   "outputs": [
    {
     "data": {
      "text/plain": [
       "[(4, 7), (4, 4), (7, 2)]"
      ]
     },
     "execution_count": 6,
     "metadata": {},
     "output_type": "execute_result"
    }
   ],
   "source": [
    "teste.bombas(3, teste.laser(), teste.saida())"
   ]
  },
  {
   "cell_type": "code",
   "execution_count": 10,
   "metadata": {},
   "outputs": [
    {
     "name": "stdout",
     "output_type": "stream",
     "text": [
      "    1  2  3  4  5  6  7  8  9  10 \n",
      " w  w  w  w  w  w  w  w  w  w  w  w    \n",
      " w                          B     w 1\n",
      " w                    B           w 2\n",
      " w                                  3\n",
      " w                                w 4\n",
      " w                             B  w 5\n",
      " w                                w 6\n",
      " =  -  -  -  -  -  -  -  -  -  -  w 7\n",
      " w                                w 8\n",
      " w                                w 9\n",
      " w                                w 10\n",
      " w  w  w  w  w  w  w  w  w  w  w  w    \n"
     ]
    }
   ],
   "source": [
    "teste.draw_grid()"
   ]
  },
  {
   "cell_type": "code",
   "execution_count": null,
   "metadata": {},
   "outputs": [],
   "source": []
  },
  {
   "cell_type": "code",
   "execution_count": null,
   "metadata": {},
   "outputs": [],
   "source": []
  }
 ],
 "metadata": {
  "kernelspec": {
   "display_name": "Python 3.10.8 64-bit (microsoft store)",
   "language": "python",
   "name": "python3"
  },
  "language_info": {
   "codemirror_mode": {
    "name": "ipython",
    "version": 3
   },
   "file_extension": ".py",
   "mimetype": "text/x-python",
   "name": "python",
   "nbconvert_exporter": "python",
   "pygments_lexer": "ipython3",
   "version": "3.10.8 (tags/v3.10.8:aaaf517, Oct 11 2022, 16:50:30) [MSC v.1933 64 bit (AMD64)]"
  },
  "orig_nbformat": 4,
  "vscode": {
   "interpreter": {
    "hash": "eab14602231ad01e6975e6b14c107e0ddf402763b11716d601df613e1787ed6a"
   }
  }
 },
 "nbformat": 4,
 "nbformat_minor": 2
}
